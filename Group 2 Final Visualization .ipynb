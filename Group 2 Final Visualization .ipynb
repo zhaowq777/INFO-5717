{
 "cells": [
  {
   "cell_type": "code",
   "execution_count": null,
   "metadata": {},
   "outputs": [],
   "source": [
    "from wordcloud import WordCloud, STOPWORDS \n",
    "import matplotlib.pyplot as plt \n",
    "import pandas as pd \n",
    "df = pd.read_csv(r\"C:/Users/JeTerius/Documents/Python Final Project/web/Book1.csv\", encoding =\"latin-1\")  \n",
    "comment_words = ' '\n",
    "stopwords = set(STOPWORDS) \n",
    "for val in df.TEXT: \n",
    "      \n",
    "    val = str(val) \n",
    "   \n",
    "    tokens = val.split() \n",
    "      \n",
    "    for i in range(len(tokens)): \n",
    "        tokens[i] = tokens[i].lower()      \n",
    "    for words in tokens: \n",
    "        comment_words = comment_words + words + ' '\n",
    "wordcloud = WordCloud(width = 800, height = 800, \n",
    "                background_color ='white', \n",
    "                stopwords = stopwords, \n",
    "                min_font_size = 10).generate(comment_words)                        \n",
    "plt.figure(figsize = (8, 8), facecolor = None) \n",
    "plt.imshow(wordcloud) \n",
    "plt.axis(\"off\") \n",
    "plt.tight_layout(pad = 0)  \n",
    "plt.show()\n"
   ]
  }
 ],
 "metadata": {
  "kernelspec": {
   "display_name": "Python 3",
   "language": "python",
   "name": "python3"
  },
  "language_info": {
   "codemirror_mode": {
    "name": "ipython",
    "version": 3
   },
   "file_extension": ".py",
   "mimetype": "text/x-python",
   "name": "python",
   "nbconvert_exporter": "python",
   "pygments_lexer": "ipython3",
   "version": "3.7.3"
  }
 },
 "nbformat": 4,
 "nbformat_minor": 2
}
