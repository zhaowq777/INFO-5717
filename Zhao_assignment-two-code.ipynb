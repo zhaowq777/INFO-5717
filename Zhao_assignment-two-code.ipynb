{
 "cells": [
  {
   "cell_type": "code",
   "execution_count": 36,
   "metadata": {},
   "outputs": [
    {
     "name": "stdout",
     "output_type": "stream",
     "text": [
      "r                 V\n",
      "1         4.1887902047863905\n",
      "2         33.510321638291124\n",
      "3         113.09733552923254\n",
      "4         268.082573106329\n",
      "5         523.5987755982989\n",
      "6         904.7786842338603\n",
      "7         1436.7550402417319\n",
      "8         2144.660584850632\n",
      "9         3053.6280592892786\n",
      "10         4188.790204786391\n"
     ]
    }
   ],
   "source": [
    "print ('r'+17*' '+'V')\n",
    "import math\n",
    "for r in range (1,11):\n",
    "    v = 4 / 3 * math.pi * pow(r, 3) \n",
    "    print (r,7*' ',v)"
   ]
  },
  {
   "cell_type": "code",
   "execution_count": 61,
   "metadata": {},
   "outputs": [
    {
     "name": "stdout",
     "output_type": "stream",
     "text": [
      "Enter a word:feel\n",
      "['ARTHROTEC.1_1', 'I feel a bit drowsy & have a little blurred vision, so far no gastric problems.\\n']\n",
      "['ARTHROTEC.1_5', \"So far its been very good, pains almost gone, but I feel a bit weird, didn't have that when on 50.\"]\n",
      "['ARTHROTEC.13_2', 'false full feeling, very poor appetite.\\n']\n",
      "['ARTHROTEC.17_7', \"i'm also starting to feel dizzy and light headed, and can feel acidic bile at the back of my throat.\\n\"]\n",
      "['ARTHROTEC.18_6', 'honestly never thought I would feel that way again.\\n']\n",
      "['ARTHROTEC.2_1', 'heartburn, nausea, frequent feelings of voracious hunger & sharp unbearable cramping pains in lower gut.\\n']\n",
      "['ARTHROTEC.28_1', 'Anxiety and the feeling I was bleeding inside.\\n']\n",
      "['ARTHROTEC.28_2', 'Sudden feelings of cramp like being punched in the stomach.\\n']\n",
      "['ARTHROTEC.28_3', \"A general 'scared' feeling and sitting very still in the hope it would go away.\\n\"]\n",
      "['ARTHROTEC.30_17', 'I feel that I have become dependent on this medicine to function.\\n']\n",
      "['ARTHROTEC.32_1', \"the first pill i took it caused severe abdominal pain but after taking the first one it never did that again , but recently i've been feeling like my stomach is full and empty at the same time hard to explain but thats what it felt like , and also have been getting bruises allover my body due to this drug , other than that my back is back to normal now and i am back at work.\\n\"]\n",
      "['ARTHROTEC.33_1', 'just starting to feel tired this week after 3 weeks on the medication and that is the only bad side effect.\\n']\n",
      "['ARTHROTEC.41_1', 'Dizziness, sickness, stomach gas, feel like a bubble of air is stuck in my chest.\\n']\n",
      "['ARTHROTEC.41_2', \"Hadn't realised it was related until I read this but I get the hunger pangs too, I'm assuming this is the acids and gas in your stomach constantly churning over that make you feel like you're hungry.\\n\"]\n",
      "['ARTHROTEC.41_5', \"I've tried it for a week but it makes me feel dreadful.\\n\"]\n",
      "['ARTHROTEC.41_6', 'Every time I stand up I have to hold onto something for fear of falling over, I feel sick and light headed and I get those waves of nausea where you suddenly feel all clammy.\\n']\n",
      "['ARTHROTEC.45_1', 'Has been all OK until recently when I started to get \" fluey\" feelings in upper arms, legs etc\\n']\n",
      "['ARTHROTEC.45_5', 'fluey feelings returned within a hour.\\n']\n",
      "['ARTHROTEC.47_1', \"after taking just one dose, had hunger feeling and stomach cramping, in the eve and through the night constant muscle cramps in my calf muscles, couldn't sleep, had to keep jumping out of bed because of the cramps.\\n\"]\n",
      "['ARTHROTEC.47_2', \"I just went for test and haven't gotten results yet, but Dr feels I have more than 1 form of arthritis, I also have a very sensitive stomach, this is cheaper and more approved by health insurance, so that is why this prescribed.\\n\"]\n",
      "['ARTHROTEC.48_5', 'i am in need of a knee replacement, but in meantime feel like I have my life back.\\n']\n",
      "['ARTHROTEC.52_4', 'After half an hour it passed, but its been a day a half now, and i still feel sick after eating and random shooting lower abdominal pains.\\n']\n",
      "['ARTHROTEC.56_3', 'been off this pill for two days now and still feeling same\\n']\n",
      "['ARTHROTEC.56_4', \"hoping cramps stop soon can't stand feeling sick all day.\\n\"]\n",
      "['ARTHROTEC.68_1', 'For the first 8 days of ever taking it, the only side effect was a similar feeling you get when you have an empty stomach and light nausea that lasted for no more that 30 minutes\\n']\n",
      "['ARTHROTEC.68_2', 'After 8 days, the feeling elevated to an annoying sharp pain in my stomach.\\n']\n",
      "['ARTHROTEC.76_1', 'swelling, bloating, increased appetite, empty stomach feeling,dry,itchy skin.\\n']\n",
      "['ARTHROTEC.79_7', 'I feel it has a cummulative effect.\\n']\n",
      "['ARTHROTEC.80_1', \"abdominal pain, constant soreness in abdomen, headache, general stomach upset feeling that won't go away before or after eating.\\n\"]\n",
      "['ARTHROTEC.88_3', 'My arm feels better.\\n']\n",
      "['ARTHROTEC.89_3', 'My back does feel better, not 100% OK, but probably 60%.\\n']\n",
      "The feel has appeared a total of 31 times\n"
     ]
    }
   ],
   "source": [
    "import os\n",
    "import csv\n",
    "import pandas as pd\n",
    "\n",
    "\n",
    "filePath=\"C:/Assignment 2 data collection/\"\n",
    "filename = os.listdir(filePath)\n",
    "\n",
    "alldata = []\n",
    "sentence_content = []\n",
    "word = input(\"Enter a word:\")\n",
    "j = 0\n",
    "\n",
    "for i in filename:\n",
    "    file_path = os.path.join(filePath,i)\n",
    "    file = open(file_path,\"r\")    \n",
    "    sentence = file.readlines()\n",
    "    for item in sentence:\n",
    "        sentenceid = i.strip(\".txt\")+\"_\"+str(sentence.index(item)+1)\n",
    "        row = [sentenceid, item]\n",
    "        alldata.append(row)\n",
    "        if word in item:\n",
    "            print (row)\n",
    "            j = j+1\n",
    "        else:\n",
    "            continue\n",
    "print (\"The \" +word+  \" has appeared a total of \" +str(j)+ \" times\")\n",
    "\n",
    "\n",
    "data = pd.DataFrame(alldata)\n",
    "data.to_csv(\"C:/Assignment 2 csv/wenqian1.csv\")\n"
   ]
  },
  {
   "cell_type": "code",
   "execution_count": 60,
   "metadata": {},
   "outputs": [
    {
     "name": "stdout",
     "output_type": "stream",
     "text": [
      "From 2008-2009: -795\n",
      "From 2009-2010: 5091\n",
      "From 2010-2011: -303\n",
      "From 2011-2012: 1404\n",
      "From 2012-2013: 1565\n",
      "From 2013-2014: 2622\n"
     ]
    }
   ],
   "source": [
    "import csv\n",
    "housing_units_occupied = {} \n",
    "with open(\"C:/Assignment 2 house/Assignment2_denton_housing.csv\",'r') as input_file:\n",
    "    file_reader = csv.reader(input_file)\n",
    "    for row in file_reader: \n",
    "        if row[1] == \"Occupied Housing Units\": \n",
    "            housing_units_occupied[int(row[0])] = int(row[2])\n",
    "unit_diff = {} \n",
    "year = 2008 \n",
    "while year < 2014: \n",
    "    unit_diff[housing_units_occupied[year+1]-housing_units_occupied[year]] = str(year)+\"-\"+str(year+1)\n",
    "    year+=1 \n",
    "for item in unit_diff:\n",
    "    print(\"From\",unit_diff[item]+\":\",item)"
   ]
  },
  {
   "cell_type": "code",
   "execution_count": 59,
   "metadata": {},
   "outputs": [
    {
     "name": "stdout",
     "output_type": "stream",
     "text": [
      "Year\tVacant Housing Units\tOccupied Housing Units\n",
      "2008\t10.9%\t\t\t89.1%\n",
      "2009\t9.1%\t\t\t90.9%\n",
      "2010\t8.1%\t\t\t91.9%\n",
      "2011\t9.4%\t\t\t90.6%\n",
      "2012\t6.7%\t\t\t93.3%\n",
      "2013\t8.8%\t\t\t91.2%\n",
      "2014\t5.7%\t\t\t94.3%\n"
     ]
    }
   ],
   "source": [
    "import csv\n",
    "housing_units_total = {}\n",
    "housing_units_occupied = {}\n",
    "housing_units_vacant = {}\n",
    "# Open input file to read data\n",
    "with open(\"C:/Assignment 2 house/Assignment2_denton_housing.csv\",'r') as input_file:\n",
    "    file_reader = csv.reader(input_file) \n",
    "    for row in file_reader: \n",
    "        if row[1] == \"Total Housing Units\": \n",
    "            housing_units_total[int(row[0])] = int(row[2])\n",
    "        elif row[1] == \"Occupied Housing Units\": \n",
    "            housing_units_occupied[int(row[0])] = int(row[2])\n",
    "        elif row[1] == \"Vacant Housing Units\": \n",
    "            housing_units_vacant[int(row[0])] = int(row[2])\n",
    "year = 2008 \n",
    "print(\"Year\\tVacant Housing Units\\tOccupied Housing Units\") \n",
    "while year <= 2014: \n",
    "    vacant_percent = (housing_units_vacant[year]/housing_units_total[year])*100\n",
    "    occupied_percent = (housing_units_occupied[year]/housing_units_total[year])*100\n",
    "    print(str(year)+\"\\t\"+str(round(vacant_percent,1))+\"%\\t\\t\\t\"+str(round(occupied_percent,1))+\"%\")\n",
    "    year+=1"
   ]
  },
  {
   "cell_type": "code",
   "execution_count": 58,
   "metadata": {},
   "outputs": [
    {
     "name": "stdout",
     "output_type": "stream",
     "text": [
      "\t\t\tYear\tValue\n",
      "Vacant Housing Units\t2008\t4483\n",
      "Occupied Housing Units\t2014\t46295\n"
     ]
    }
   ],
   "source": [
    "import csv\n",
    "housing_units_occupied = {}\n",
    "housing_units_vacant = {}\n",
    "with open(\"C:/Assignment 2 house/Assignment2_denton_housing.csv\",'r') as input_file:\n",
    "    file_reader = csv.reader(input_file) \n",
    "    for row in file_reader: \n",
    "        if row[1] == \"Occupied Housing Units\": \n",
    "            housing_units_occupied[int(row[0])] = int(row[2])\n",
    "        elif row[1] == \"Vacant Housing Units\": \n",
    "            housing_units_vacant[int(row[0])] = int(row[2])\n",
    "max_vacant = max(housing_units_vacant.values()) \n",
    "max_occupied = max(housing_units_occupied.values()) \n",
    "print(\"\\t\\t\\tYear\\tValue\") \n",
    "for item in housing_units_vacant.items():\n",
    "    if item[1] == max_vacant:\n",
    "        print(\"Vacant Housing Units\\t\"+str(item[0])+\"\\t\"+str(max_vacant))\n",
    "for item in housing_units_occupied.items():\n",
    "    if item[1] == max_occupied:\n",
    "        print(\"Occupied Housing Units\\t\"+str(item[0])+\"\\t\"+str(max_occupied))"
   ]
  },
  {
   "cell_type": "code",
   "execution_count": 57,
   "metadata": {},
   "outputs": [
    {
     "name": "stdout",
     "output_type": "stream",
     "text": [
      "The harmonic mean of the total housing units is 44398.29\n"
     ]
    }
   ],
   "source": [
    "def harmonic_mean(list_name):\n",
    "    sum_rec = 0\n",
    "    for n in list_name:\n",
    "        sum_rec += (1/n)\n",
    "    return round(len(list_name)/sum_rec,2)\n",
    "\n",
    "import csv\n",
    "housing_units_total = [] \n",
    "with open(\"C:/Assignment 2 house/Assignment2_denton_housing.csv\",'r') as input_file:\n",
    "    file_reader = csv.reader(input_file) \n",
    "    for row in file_reader: \n",
    "        if row[1] == \"Total Housing Units\": \n",
    "            housing_units_total.append(int(row[2]))\n",
    "\n",
    "print(\"The harmonic mean of the total housing units is\",str(harmonic_mean(housing_units_total)))"
   ]
  }
 ],
 "metadata": {
  "kernelspec": {
   "display_name": "Python 3",
   "language": "python",
   "name": "python3"
  },
  "language_info": {
   "codemirror_mode": {
    "name": "ipython",
    "version": 3
   },
   "file_extension": ".py",
   "mimetype": "text/x-python",
   "name": "python",
   "nbconvert_exporter": "python",
   "pygments_lexer": "ipython3",
   "version": "3.7.3"
  }
 },
 "nbformat": 4,
 "nbformat_minor": 2
}
