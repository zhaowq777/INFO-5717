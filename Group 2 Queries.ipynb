{
 "cells": [
  {
   "cell_type": "code",
   "execution_count": null,
   "metadata": {},
   "outputs": [],
   "source": [
    "import pymysql\n",
    "db = pymysql.connect(host='localhost',user='root',passwd='root', db='pythonproject')\n",
    "cursor = db.cursor()\n",
    "query = (\"SELECT ID, information FROM `resource` WHERE ID = 1;\")\n",
    "cursor.execute(query)\n",
    "for r in cursor:\n",
    "    print (r)\n"
   ]
  },
  {
   "cell_type": "code",
   "execution_count": null,
   "metadata": {},
   "outputs": [],
   "source": [
    "import pymysql\n",
    "import numpy as np\n",
    "import pandas as pd\n",
    "from PIL import Image\n",
    "from wordcloud import WordCloud, STOPWORDS, ImageColorGenerator\n",
    "import matplotlib.pyplot as plt\n",
    "% matplotlib inlin\n",
    "db = pymysql.connect(host='localhost',user='root',passwd='root', db='pythonproject')\n",
    "cursor = db.cursor()\n",
    "query = (\"SELECT ID, information FROM `service` WHERE ID = 2 OR ID = 3 OR ID = 4 OR ID = 5 OR ID = 6 OR ID = 7;\")\n",
    "cursor.execute(query)\n",
    "for r in cursor:\n",
    "    print (r)\n"
   ]
  },
  {
   "cell_type": "code",
   "execution_count": null,
   "metadata": {},
   "outputs": [],
   "source": [
    "import pymysql\n",
    "db = pymysql.connect(host='localhost',user='root',passwd='root', db='pythonproject')\n",
    "cursor = db.cursor()\n",
    "query = (\"SELECT ID, information FROM `service` WHERE ID = 21 OR ID = 22 OR ID = 23 OR ID = 24 OR ID = 25;\")\n",
    "cursor.execute(query)\n",
    "for r in cursor:\n",
    "    print (r)\n"
   ]
  },
  {
   "cell_type": "code",
   "execution_count": null,
   "metadata": {},
   "outputs": [],
   "source": [
    "import pymysql\n",
    "db = pymysql.connect(host='localhost',user='root',passwd='root', db='pythonproject')\n",
    "cursor = db.cursor()\n",
    "query = (\"SELECT ID, information FROM `resource` WHERE ID = 5;\")\n",
    "cursor.execute(query)\n",
    "for r in cursor:\n",
    "    print (r)\n"
   ]
  }
 ],
 "metadata": {
  "kernelspec": {
   "display_name": "Python 3",
   "language": "python",
   "name": "python3"
  },
  "language_info": {
   "codemirror_mode": {
    "name": "ipython",
    "version": 3
   },
   "file_extension": ".py",
   "mimetype": "text/x-python",
   "name": "python",
   "nbconvert_exporter": "python",
   "pygments_lexer": "ipython3",
   "version": "3.7.3"
  }
 },
 "nbformat": 4,
 "nbformat_minor": 2
}
